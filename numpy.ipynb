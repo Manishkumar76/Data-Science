{
 "cells": [
  {
   "cell_type": "markdown",
   "id": "94a8b425-6f01-407d-bdbc-abcbb6767974",
   "metadata": {},
   "source": [
    "# NumPy library\n"
   ]
  },
  {
   "cell_type": "markdown",
   "id": "cbf34303-1699-4315-b732-fcaf692d4a54",
   "metadata": {
    "jp-MarkdownHeadingCollapsed": true
   },
   "source": [
    "## What is NumPy ? \n",
    " NumPy is a Python library used for working with arrays.\n",
    " \n",
    " It also has functions for working in domain of linear algebra, fourier transform, and matrices.\n",
    " \n",
    " NumPy was created in 2005 by Travis Oliphant. It is an open source project and you can use it freely.\n",
    " \n",
    " NumPy stands for Numerical Python."
   ]
  },
  {
   "cell_type": "markdown",
   "id": "59057065-7f27-49b2-ad95-c295ef877859",
   "metadata": {},
   "source": [
    "## Why NumPy needed ?\n",
    " In Python we have lists that serve the purpose of arrays, but they are slow to process.\n",
    " \n",
    " NumPy aims to provide an array object that is up to 50x faster than traditional Python lists.\n",
    " \n",
    " The array object in NumPy is called ndarray, it provides a lot of supporting functions that make working with ndarray very easy.\n",
    " \n",
    " Arrays are very frequently used in data science, where speed and resources are very important"
   ]
  },
  {
   "cell_type": "markdown",
   "id": "fca67184-103d-4a7f-a506-39c802432c63",
   "metadata": {},
   "source": [
    "## Why is NumPy Faster Than Lists?\n",
    "NumPy arrays are stored at one continuous place in memory unlike lists, so processes can access and manipulate them very efficiently.\n",
    "\n",
    "This behavior is called locality of reference in computer science.\n",
    "\n",
    "This is the main reason why NumPy is faster than lists. Also it is optimized to work with latest CPU architectures."
   ]
  },
  {
   "cell_type": "markdown",
   "id": "96e6c8e1-e4b8-4f1a-a44c-f756efe8473f",
   "metadata": {},
   "source": [
    "## Which Language is NumPy written in?\n",
    "NumPy is a Python library and is written partially in Python, but most of the parts that require fast computation are written in C or C++."
   ]
  },
  {
   "cell_type": "markdown",
   "id": "4714ad1f-9126-48b0-9f56-ea1a086c9875",
   "metadata": {},
   "source": [
    "###  Create a NumPy ndarray Object\n",
    "NumPy is used to work with arrays. The array object in NumPy is called ndarray.\n",
    "\n",
    "We can create a NumPy ndarray object by using the array() function."
   ]
  },
  {
   "cell_type": "code",
   "execution_count": 102,
   "id": "c7560ebc-b4c3-4e0d-9aee-70b2d1dc47cd",
   "metadata": {},
   "outputs": [
    {
     "name": "stdout",
     "output_type": "stream",
     "text": [
      "[1 2 3 4]\n"
     ]
    }
   ],
   "source": [
    "import numpy as np\n",
    "\n",
    "x=np.array([1,2,3,4]);\n",
    "print(x)"
   ]
  },
  {
   "cell_type": "markdown",
   "id": "8c626137-d6b6-4f86-9a17-cf8a67ad80d9",
   "metadata": {},
   "source": [
    "####  0-D Arrays\n",
    "0-D arrays, or Scalars, are the elements in an array. Each value in an array is a 0-D array."
   ]
  },
  {
   "cell_type": "code",
   "execution_count": 103,
   "id": "4df41721-a691-4abe-802c-b155930a3e3a",
   "metadata": {},
   "outputs": [
    {
     "name": "stdout",
     "output_type": "stream",
     "text": [
      "1\n",
      "0\n"
     ]
    }
   ],
   "source": [
    "y= np.array(1);\n",
    "print(y);\n",
    "print(y.ndim)"
   ]
  },
  {
   "cell_type": "markdown",
   "id": "74102554-8e09-4f24-8c9d-e4d17ba21d43",
   "metadata": {},
   "source": [
    "####  1-D Arrays\n",
    "\n",
    "1D arrays,it stores the elements in linear and in a sequence. their is single dimension of all the arrays. "
   ]
  },
  {
   "cell_type": "code",
   "execution_count": 104,
   "id": "ff7752ac-3b85-48d2-8f3e-726f5673da86",
   "metadata": {
    "scrolled": true
   },
   "outputs": [
    {
     "name": "stdout",
     "output_type": "stream",
     "text": [
      "[1 2 3 4]\n",
      "1\n"
     ]
    }
   ],
   "source": [
    "y=np.array([1,2,3,4])\n",
    "print(y);\n",
    "print(y.ndim);"
   ]
  },
  {
   "cell_type": "markdown",
   "id": "88dce4bd-1a46-4949-aeb8-3b18048ebcec",
   "metadata": {},
   "source": [
    "#### 2-D Arrays \n",
    "\n",
    "2D arrays are store the elements in linear and grid ways. there are two dimensions of each arrays. these arrays looks like matrices.\n",
    "\n",
    "for example: \n",
    "\n",
    "1 2 3 4 5 \n",
    "\n",
    "2 4 5 6 7 \n",
    "\n",
    "2 4 5 7 8 "
   ]
  },
  {
   "cell_type": "code",
   "execution_count": 105,
   "id": "79ace64c-88d8-450b-8002-ee31118a97e0",
   "metadata": {},
   "outputs": [
    {
     "name": "stdout",
     "output_type": "stream",
     "text": [
      "[[ 2  3  4  5]\n",
      " [25  7  8  6]\n",
      " [ 5  7  8  9]\n",
      " [ 3  6  8  0]]\n",
      "2\n"
     ]
    }
   ],
   "source": [
    "z= np.array(([2,3,4,5],[25,7,8,6],[5, 7,8,9],[3,6,8,0]));\n",
    "print(z);\n",
    "print(z.ndim);"
   ]
  },
  {
   "cell_type": "markdown",
   "id": "cbdb43fa-9bce-4ea9-82e4-6b342579879f",
   "metadata": {},
   "source": [
    "####  3-D arrays\n",
    "An array that has 2-D arrays (matrices) as its elements is called 3-D array.\n",
    "\n",
    "These are often used to represent a 3rd order tensor."
   ]
  },
  {
   "cell_type": "code",
   "execution_count": 106,
   "id": "85571d25-ee68-413c-aa9c-4852132ef30b",
   "metadata": {},
   "outputs": [
    {
     "name": "stdout",
     "output_type": "stream",
     "text": [
      "[[[1 3 4 5]\n",
      "  [2 5 6 7]]\n",
      "\n",
      " [[1 3 4 5]\n",
      "  [2 5 6 7]]]\n",
      "dimension of x is  3\n"
     ]
    }
   ],
   "source": [
    "x=np.array([[[1,3,4,5],[2,5,6,7]],[[1,3,4,5],[2,5,6,7]]]);\n",
    "print(x);\n",
    "print(\"dimension of x is \",x.ndim);"
   ]
  },
  {
   "cell_type": "markdown",
   "id": "3bf2fb98-6145-4564-b3ad-1447af5d57f7",
   "metadata": {},
   "source": [
    "###  Check Number of Dimensions?\n",
    "NumPy Arrays provides the ndim attribute that returns an integer that tells us how many dimensions the array have.\n",
    "\n"
   ]
  },
  {
   "cell_type": "code",
   "execution_count": 107,
   "id": "ee7ec670-c686-4c03-a1d5-8a985214852a",
   "metadata": {},
   "outputs": [
    {
     "name": "stdout",
     "output_type": "stream",
     "text": [
      "0\n",
      "1\n",
      "2\n",
      "3\n"
     ]
    }
   ],
   "source": [
    "a = np.array(42)\n",
    "b = np.array([1, 2, 3, 4, 5])\n",
    "c = np.array([[1, 2, 3], [4, 5, 6]])\n",
    "d = np.array([[[1, 2, 3], [4, 5, 6]], [[1, 2, 3], [4, 5, 6]]])\n",
    "\n",
    "print(a.ndim)\n",
    "print(b.ndim)\n",
    "print(c.ndim)\n",
    "print(d.ndim)"
   ]
  },
  {
   "cell_type": "markdown",
   "id": "1318ea27-cbcc-447c-a59a-0540de0c12bd",
   "metadata": {},
   "source": [
    "###  Higher Dimensional Arrays\n",
    "An array can have any number of dimensions.\n",
    "\n",
    "When the array is created, you can define the number of dimensions by using the ndmin argument."
   ]
  },
  {
   "cell_type": "code",
   "execution_count": 108,
   "id": "0b3a6f4d-11e6-42c4-9b53-238080444978",
   "metadata": {},
   "outputs": [
    {
     "name": "stdout",
     "output_type": "stream",
     "text": [
      "[[[[[2 4 5 6]]]]]\n",
      "5\n"
     ]
    }
   ],
   "source": [
    "x=np.array([2,4,5,6], ndmin=5);\n",
    "print(x)\n",
    "print(x.ndim)"
   ]
  },
  {
   "cell_type": "markdown",
   "id": "b592c5d0-a73f-4b4e-b4b0-7714c6a7f7df",
   "metadata": {},
   "source": [
    "## NumPy Array Indexing"
   ]
  },
  {
   "cell_type": "markdown",
   "id": "dd1683cf-3f9e-4e8b-adac-72ce35e2ba9b",
   "metadata": {},
   "source": [
    "### Access Array Elements\n",
    "Array indexing is the same as accessing an array element.\n",
    "\n",
    "You can access an array element by referring to its index number.\n",
    "\n",
    "The indexes in NumPy arrays start with 0, meaning that the first element has index 0, and the second has index 1 etc."
   ]
  },
  {
   "cell_type": "code",
   "execution_count": 109,
   "id": "b3359fb5-fef1-4b31-9dc4-d1e7a94f24b5",
   "metadata": {},
   "outputs": [
    {
     "name": "stdout",
     "output_type": "stream",
     "text": [
      "4\n",
      "49\n",
      "58\n"
     ]
    }
   ],
   "source": [
    "arr = np.array([4, 7, 8, 49,9,5,4,7,8,46,75,5,7,6,6,4,563,64,563,76,46,45,7,47,56,5])\n",
    "\n",
    "print(arr[0]);\n",
    "print(arr[3]);\n",
    "\n",
    "print(arr[3]+arr[4]);"
   ]
  },
  {
   "cell_type": "markdown",
   "id": "01b3c69a-4b8c-48ff-9fb5-7566bb8b2718",
   "metadata": {},
   "source": [
    "### Access 2-D Arrays\n",
    "To access elements from 2-D arrays we can use comma separated integers representing the dimension and the index of the element.\n",
    "\n",
    "Think of 2-D arrays like a table with rows and columns, where the dimension represents the row and the index represents the column."
   ]
  },
  {
   "cell_type": "code",
   "execution_count": 110,
   "id": "9ef53c00-b330-465e-918a-9a6fda08b790",
   "metadata": {},
   "outputs": [
    {
     "name": "stdout",
     "output_type": "stream",
     "text": [
      "[[ 2  3  4  5]\n",
      " [23  5  7  8]\n",
      " [ 2  4  6  7]]\n",
      "6\n"
     ]
    }
   ],
   "source": [
    "arr1= np.array([[2,3,4,5],[23,5,7,8],[2,4,6,7]])\n",
    "\n",
    "print(arr1)\n",
    "print(arr1[2,2])"
   ]
  },
  {
   "cell_type": "markdown",
   "id": "0942897d-eed0-46c3-957c-ab4fd5d21cd0",
   "metadata": {},
   "source": [
    "## Access 3-D Arrays\n",
    "To access elements from 3-D arrays we can use comma separated integers representing the dimensions and the index of the element."
   ]
  },
  {
   "cell_type": "code",
   "execution_count": 111,
   "id": "8751c0e4-5989-481a-99a0-64d6e2a770e9",
   "metadata": {},
   "outputs": [
    {
     "name": "stdout",
     "output_type": "stream",
     "text": [
      "[[[1 3 4 6]\n",
      "  [1 4 6 7]]\n",
      "\n",
      " [[3 6 8 9]\n",
      "  [3 6 7 9]]]\n",
      "4\n"
     ]
    }
   ],
   "source": [
    "x= np.array([[[1,3,4,6,],[1,4,6,7]],[[3,6,8,9],[3,6,7,9]]]);\n",
    "print(x)\n",
    "\n",
    "print(x[0,1,1]);"
   ]
  },
  {
   "cell_type": "markdown",
   "id": "4a6cf1b2-75e2-46b8-a7bf-dd7122e9e630",
   "metadata": {},
   "source": [
    "#### Explanation\n",
    "x[0, 1, 1] prints the value 4.\n",
    "\n",
    "And this is why:\n",
    "\n",
    "The first number represents the first dimension, which contains two arrays:\n",
    "[[1 3 4 6]\n",
    "  [1 4 6 7]]\n",
    "and:\n",
    " [[3 6 8 9]\n",
    "  [3 6 7 9]]\n",
    "\n",
    "Since we selected 0, we are left with the first array:\n",
    "[[1 3 4 6]\n",
    "  [1 4 6 7]]\n",
    "\n",
    "The second number represents the second dimension, which also contains two arrays:\n",
    "[1 3 4 6]\n",
    "and:\n",
    "[1 4 6 7]\n",
    "Since we selected 1, we are left with the second array:\n",
    "[1 4 6 7]\n",
    "\n",
    "The third number represents the third dimension, which contains four values:\n",
    "1 4 6 7\n",
    "\n",
    "Since we selected 1, we end up with the 2nd value:\n",
    "4"
   ]
  },
  {
   "cell_type": "markdown",
   "id": "343ce61f-93d1-42ce-9659-39885d8ec984",
   "metadata": {},
   "source": [
    "### Negative Indexing\n",
    "Use negative indexing to access an array from the end."
   ]
  },
  {
   "cell_type": "code",
   "execution_count": 112,
   "id": "628a3b55-0923-4b85-8c65-53409457c4ef",
   "metadata": {},
   "outputs": [
    {
     "name": "stdout",
     "output_type": "stream",
     "text": [
      "Last element from 2nd dim:  9\n"
     ]
    }
   ],
   "source": [
    "\n",
    "arr = np.array([[1,2,3,4,5], [6,7,8,9,10]])\n",
    "\n",
    "print('Last element from 2nd dim: ', arr[-1, -2])"
   ]
  },
  {
   "cell_type": "markdown",
   "id": "4e31c0d9-cdc6-40ac-8b3e-e0c07358dfd3",
   "metadata": {},
   "source": [
    "### Explanation \n",
    "\n",
    "here arr[-1,-2];\n",
    "\n",
    "there are two array \n",
    "\n",
    "1: [1,2,3,4,5] \n",
    "\n",
    "and \n",
    "\n",
    "2: [6,7,8,9,10]\n",
    "\n",
    "-1 select the array from end of the arr.\n",
    "\n",
    "means [6,7,8,9,10]\n",
    "\n",
    "-2 select the 2nd last element from the array [6,7,8,9,10]\n",
    "\n",
    "means answer is 9 "
   ]
  },
  {
   "cell_type": "markdown",
   "id": "45b401bc-e289-41cc-9de6-f6316e8717de",
   "metadata": {},
   "source": [
    "## NumPy Array Slicing"
   ]
  },
  {
   "cell_type": "markdown",
   "id": "d02c1a4f-f1be-4819-b4e6-2d6490c5e250",
   "metadata": {},
   "source": [
    "### Slicing arrays\n",
    "Slicing in python means taking elements from one given index to another given index.\n",
    "\n",
    "We pass slice instead of index like this: [start:end].\n",
    "\n",
    "We can also define the step, like this: [start:end:step].\n",
    "\n",
    "If we don't pass start its considered 0\n",
    "\n",
    "If we don't pass end its considered length of array in that dimension\n",
    "\n",
    "If we don't pass step its considered 1"
   ]
  },
  {
   "cell_type": "code",
   "execution_count": 113,
   "id": "8366bfa8-b16b-4ef7-b93e-a2b7d9acf646",
   "metadata": {},
   "outputs": [
    {
     "name": "stdout",
     "output_type": "stream",
     "text": [
      "[2 3 4]\n",
      "[5 6 7]\n",
      "[1 2 3 4]\n",
      "[5 6]\n",
      "[3 5 7]\n",
      "[1 3 5 7]\n",
      "[1 4 7]\n"
     ]
    }
   ],
   "source": [
    "import numpy as np\n",
    "\n",
    "arr = np.array([1, 2, 3, 4, 5, 6, 7])\n",
    "\n",
    "print(arr[1:4])\n",
    "\n",
    "# Slice elements from index 4 to the end of the array:\n",
    "\n",
    "print(arr[4:])\n",
    "\n",
    "#Slice elements from index 4 to the first of the array and index 4 (not included):\n",
    "\n",
    "print(arr[:4]);\n",
    "\n",
    "#Negative Slicing\n",
    "#Use the minus operator to refer to an index from the end:\n",
    "\n",
    "print(arr[-3:-1]);\n",
    "\n",
    "#STEP\n",
    "#Use the step value to determine the step of the slicing:\n",
    "print(arr[2:7:2]);\n",
    "\n",
    "#Return every other element from the entire array:\n",
    "arr = np.array([1, 2, 3, 4, 5, 6, 7])\n",
    "print(arr[::2])\n",
    "print(arr[::3]);"
   ]
  },
  {
   "cell_type": "markdown",
   "id": "8737f478-4bba-4815-aa34-4b8542de6590",
   "metadata": {},
   "source": [
    "#### Slicing 2-D Arrays\n"
   ]
  },
  {
   "cell_type": "code",
   "execution_count": 114,
   "id": "3741cfa5-d554-4d6c-9b9e-bcc5b4842b0f",
   "metadata": {},
   "outputs": [
    {
     "name": "stdout",
     "output_type": "stream",
     "text": [
      "[6 9]\n",
      "[3 9]\n",
      "[9]\n",
      "[[2]\n",
      " [6]]\n"
     ]
    }
   ],
   "source": [
    "a= np.array([[1,2,3,5],[4,6,9,0]]);\n",
    "\n",
    "print(a[1,1:3]); # not included 3\n",
    "print(a[0:2,2]); # here show 2nd index value of both the array\n",
    "print(a[1:2,2]); # here show 2nd  index value of 2nd array \n",
    "\n",
    "#From both elements, slice index 1 to index 4 (not included), this will return a 2-D array:\n",
    "\n",
    "print(a[0:2, 1:2]) #2nd indexed value not included\n"
   ]
  },
  {
   "cell_type": "markdown",
   "id": "710a5e41-82df-40a6-b642-93cdc81aa24f",
   "metadata": {},
   "source": [
    "## NumPy Data Types"
   ]
  },
  {
   "cell_type": "markdown",
   "id": "8c4bc850-d956-4b04-a3f9-2b11f2c1b139",
   "metadata": {},
   "source": [
    "### Data Types in Python\n",
    "By default Python have these data types:\n",
    "\n",
    "strings - used to represent text data, the text is given under quote marks. e.g. \"ABCD\"\n",
    "\n",
    "integer - used to represent integer numbers. e.g. -1, -2, -3\n",
    "\n",
    "float - used to represent real numbers. e.g. 1.2, 42.42\n",
    "\n",
    "boolean - used to represent True or False.\n",
    "\n",
    "complex - used to represent complex numbers. e.g. 1.0 + 2.0j, 1.5 + 2."
   ]
  },
  {
   "cell_type": "markdown",
   "id": "93b5cbfe-2242-4c4f-aac5-f28a8d00ff2f",
   "metadata": {},
   "source": [
    "### Data Types in NumPy\n",
    "NumPy has some extra data types, and refer to data types with one character, like i for integers, u for unsigned integers etc.\n",
    "\n",
    "Below is a list of all data types in NumPy and the characters used to represent them.\n",
    "\n",
    "i - integer\n",
    "\n",
    "b - boolean\n",
    "\n",
    "u - unsigned integer\n",
    "\n",
    "f - float\n",
    "\n",
    "c - complex float\n",
    "\n",
    "m - timedelta\n",
    "\n",
    "M - datetime\n",
    "\n",
    "O - object\n",
    "\n",
    "S - string\n",
    "\n",
    "U - unicode string\n",
    "\n",
    "V - fixed chunk of memory for other type ( void )"
   ]
  },
  {
   "cell_type": "markdown",
   "id": "cdc8d998-fb84-4e01-b632-fbc88667afd9",
   "metadata": {},
   "source": [
    "### Checking the Data Type of an Array\n",
    "The NumPy array object has a property called dtype that returns the data type of the array:"
   ]
  },
  {
   "cell_type": "code",
   "execution_count": 115,
   "id": "c2297b01-c465-4cbc-9324-3223c8e9eed4",
   "metadata": {},
   "outputs": [
    {
     "name": "stdout",
     "output_type": "stream",
     "text": [
      "<U7\n",
      "int32\n",
      "<U1\n"
     ]
    }
   ],
   "source": [
    "a= np.array([\"Apple\",\"bannana\"]);\n",
    "b= np.array([1,2,4,5,]);\n",
    "c=np.array(['a','b','c']);\n",
    "\n",
    "print(a.dtype);\n",
    "print(b.dtype);\n",
    "print(c.dtype);\n"
   ]
  },
  {
   "cell_type": "markdown",
   "id": "bb7a76cd-d011-499b-91be-4cdc1f0dd539",
   "metadata": {},
   "source": [
    "### Creating Arrays With a Defined Data Type\n",
    "We use the array() function to create arrays, this function can take an optional argument: dtype that allows us to define the expected data type of the array elements:"
   ]
  },
  {
   "cell_type": "code",
   "execution_count": 116,
   "id": "f8550337-c647-452e-bb8d-710c15caa019",
   "metadata": {},
   "outputs": [
    {
     "name": "stdout",
     "output_type": "stream",
     "text": [
      "[b'1' b'2' b'34' b'5']\n",
      "|S2\n",
      "[ 1  2 34  5]\n",
      "int32\n",
      "[ 1.  2. 34.  5.]\n",
      "float32\n"
     ]
    }
   ],
   "source": [
    "x= np.array([1,2,34,5], dtype='S'); # create array of string type\n",
    "print(x)\n",
    "print(x.dtype);\n",
    "\n",
    "y=np.array([1,2,34,5], dtype='i4'); # create array of intiger 4-bytes \n",
    "print(y)\n",
    "print(y.dtype);\n",
    "\n",
    "# y1= np.array(['a','b','5','3'],dtype='i4');\n",
    "# print(y1)\n",
    "# print(y1.dtype);\n",
    "\n",
    "#  Cell In[249], line 9\n",
    "#       6 print(y)\n",
    "#       7 print(y.dtype);\n",
    "# ----> 9 y1= np.array(['a','b','5','3'],dtype='i4');\n",
    "#      10 print(y1)\n",
    "#      11 print(y1.dtype);\n",
    "\n",
    "# ValueError: invalid literal for int() with base 10: 'a'\n",
    "\n",
    "z=np.array([1,2,34,5],dtype='f');\n",
    "print(z)\n",
    "print(z.dtype);"
   ]
  },
  {
   "cell_type": "markdown",
   "id": "0ddf62ae-2263-4687-89c2-408a5578b211",
   "metadata": {},
   "source": [
    "## Converting Data Type on Existing Arrays\n",
    "The best way to change the data type of an existing array, is to make a copy of the array with the astype() method.\n",
    "\n",
    "The astype() function creates a copy of the array, and allows you to specify the data type as a parameter.\n",
    "\n",
    "The data type can be specified using a string, like 'f' for float, 'i' for integer etc. or you can use the data type directly like float for float and int for integer."
   ]
  },
  {
   "cell_type": "code",
   "execution_count": 117,
   "id": "83ee66e5-af99-4007-ab74-9946b3898611",
   "metadata": {},
   "outputs": [
    {
     "name": "stdout",
     "output_type": "stream",
     "text": [
      "[1 3 5 6 7] [1. 3. 5. 6. 7.]\n",
      "int32 float64\n",
      "[b'1' b'3' b'5' b'6' b'7'] |S11\n"
     ]
    }
   ],
   "source": [
    "x= np.array([1,3,5,6,7]);\n",
    "\n",
    "newX= x.astype(float);\n",
    "\n",
    "print(x,newX)\n",
    "\n",
    "print(x.dtype,newX.dtype);\n",
    "\n",
    "y=x.astype('S')\n",
    "print(y,y.dtype);"
   ]
  },
  {
   "cell_type": "markdown",
   "id": "76048d14-13f9-4be1-970b-8bc65e2c0b94",
   "metadata": {},
   "source": [
    "## NumPy Array Copy vs View"
   ]
  },
  {
   "cell_type": "markdown",
   "id": "68dc965f-1d77-4628-8749-490371988972",
   "metadata": {},
   "source": [
    "### The Difference Between Copy and View\n",
    "The main difference between a copy and a view of an array is that the copy is a new array, and the view is just a view of the original array.\n",
    "\n",
    "The copy owns the data and any changes made to the copy will not affect original array, and any changes made to the original array will not affect the copy.\n",
    "\n",
    "The view does not own the data and any changes made to the view will affect the original array, and any changes made to the original array will affect the view."
   ]
  },
  {
   "cell_type": "markdown",
   "id": "694e0627-72dc-4739-828f-a457828aeb0a",
   "metadata": {},
   "source": [
    "#### Copy:"
   ]
  },
  {
   "cell_type": "code",
   "execution_count": 118,
   "id": "a8f8baa9-90d2-4ddd-8281-5cec82a6903d",
   "metadata": {},
   "outputs": [
    {
     "name": "stdout",
     "output_type": "stream",
     "text": [
      "[78  4 56  8] \n",
      " [ 2  4 56  8]\n"
     ]
    }
   ],
   "source": [
    "x=np.array([2,4,56,8]);\n",
    "y=x.copy(); # it will create new array as copy of x\n",
    "x[0]=78;\n",
    "\n",
    "print(x,'\\n',y);"
   ]
  },
  {
   "cell_type": "markdown",
   "id": "e374e43a-4a55-4d6f-82ce-bd06578efd2a",
   "metadata": {},
   "source": [
    "#### View:"
   ]
  },
  {
   "cell_type": "code",
   "execution_count": 119,
   "id": "2c875725-ce7b-401c-9bec-659722efff01",
   "metadata": {},
   "outputs": [
    {
     "name": "stdout",
     "output_type": "stream",
     "text": [
      "[78  4 56  8] \n",
      " [78  4 56  8]\n",
      "[78  4 79  8] \n",
      " [78  4 79  8]\n"
     ]
    }
   ],
   "source": [
    "x=np.array([2,4,56,8]);\n",
    "y=x.view(); # it will take a referance of x\n",
    "x[0]=78;\n",
    "print(x,'\\n',y);\n",
    "\n",
    "y[2]=79;\n",
    "print(x,'\\n',y);"
   ]
  },
  {
   "cell_type": "markdown",
   "id": "37eb1ccc-cbf0-4584-b4d0-c4b39f926d9a",
   "metadata": {},
   "source": [
    "### Check if Array Owns its Data\n",
    "As mentioned above, copies owns the data, and views does not own the data, but how can we check this?\n",
    "\n",
    "Every NumPy array has the attribute base that returns None if the array owns the data.\n",
    "\n",
    "Otherwise, the base  attribute refers to the original object."
   ]
  },
  {
   "cell_type": "code",
   "execution_count": 120,
   "id": "5b21927c-b246-4fe1-a308-459e51400d7d",
   "metadata": {},
   "outputs": [
    {
     "name": "stdout",
     "output_type": "stream",
     "text": [
      "[ 2  4 56  8] \n",
      " [ 2  4 56  8] \n",
      " [ 2  4 56  8]\n",
      "None\n",
      "[ 2  4 56  8]\n",
      "None\n"
     ]
    }
   ],
   "source": [
    "x=np.array([2,4,56,8]);\n",
    "y=x.view();\n",
    "z=x.copy();\n",
    "\n",
    "print(x,'\\n',y,'\\n',z);\n",
    "print(x.base) #it will show none because x has thier own data\n",
    "print(y.base) # it will show the object [2,4,56,8] because y has not thier own data \n",
    "print(z.base) #it will show none because z has thier own data which copied from x\n"
   ]
  },
  {
   "cell_type": "markdown",
   "metadata": {},
   "source": [
    "## NumPy Array Shape"
   ]
  },
  {
   "cell_type": "markdown",
   "metadata": {},
   "source": [
    "### Shape of an Array\n",
    "The shape of an array is the number of elements in each dimension.\n",
    "\n",
    "NumPy arrays have an attribute called shape that returns a tuple with each index having the number of corresponding elements."
   ]
  },
  {
   "cell_type": "code",
   "execution_count": 121,
   "metadata": {},
   "outputs": [
    {
     "name": "stdout",
     "output_type": "stream",
     "text": [
      "(2, 4)\n",
      "(1, 1, 1, 1, 5)\n"
     ]
    }
   ],
   "source": [
    "import numpy as np;\n",
    "arr = np.array([[1, 2, 3, 4], [5, 6, 7, 8]])\n",
    "\n",
    "print(arr.shape)\n",
    "\n",
    "arr=np.array([1,23,4,5,6], ndmin=5)\n",
    "\n",
    "print(arr.shape)\n",
    "\n"
   ]
  },
  {
   "cell_type": "markdown",
   "metadata": {},
   "source": [
    "Integers at every index tells about the number of elements the corresponding dimension has.\n",
    "\n",
    "In the example above at index-4 we have value 5, so we can say that 5th ( 4 + 1 th) dimension has 5 elements."
   ]
  },
  {
   "cell_type": "markdown",
   "metadata": {},
   "source": [
    "## NumPy Array Reshaping"
   ]
  },
  {
   "cell_type": "markdown",
   "metadata": {},
   "source": [
    "### Reshaping arrays\n",
    "\n",
    "Reshaping means changing the shape of an array.\n",
    "\n",
    "The shape of an array is the number of elements in each dimension.\n",
    "\n",
    "By reshaping we can add or remove dimensions or change number of elements in each dimension."
   ]
  },
  {
   "cell_type": "code",
   "execution_count": 122,
   "metadata": {},
   "outputs": [
    {
     "name": "stdout",
     "output_type": "stream",
     "text": [
      "[[ 1  2  3]\n",
      " [ 4  5  6]\n",
      " [ 7  8  9]\n",
      " [10 11 12]]\n",
      "[[[ 1  2]\n",
      "  [ 3  4]\n",
      "  [ 5  6]]\n",
      "\n",
      " [[ 7  8]\n",
      "  [ 9 10]\n",
      "  [11 12]]]\n"
     ]
    }
   ],
   "source": [
    "arr = np.array([1, 2, 3, 4, 5, 6, 7, 8, 9, 10, 11, 12])\n",
    "\n",
    "newarr = arr.reshape(4, 3)\n",
    "\n",
    "print(newarr)\n",
    "\n",
    "newarr= arr.reshape(2,3,2)\n",
    "\n",
    "print(newarr)"
   ]
  },
  {
   "cell_type": "markdown",
   "metadata": {},
   "source": [
    "### Can We Reshape Into any Shape?\n",
    "Yes, as long as the elements required for reshaping are equal in both shapes.\n",
    "\n",
    "We can reshape an 8 elements 1D array into 4 elements in 2 rows 2D array but we cannot reshape it into a 3 elements 3 rows 2D array as that would require 3x3 = 9 elements."
   ]
  },
  {
   "cell_type": "code",
   "execution_count": 123,
   "metadata": {},
   "outputs": [
    {
     "name": "stdout",
     "output_type": "stream",
     "text": [
      "[[1 2 3 4]\n",
      " [5 6 7 8]]\n"
     ]
    },
    {
     "ename": "ValueError",
     "evalue": "cannot reshape array of size 8 into shape (3,3)",
     "output_type": "error",
     "traceback": [
      "\u001b[1;31m---------------------------------------------------------------------------\u001b[0m",
      "\u001b[1;31mValueError\u001b[0m                                Traceback (most recent call last)",
      "\u001b[1;32mc:\\Users\\Manish Kumar\\Data Science\\numpy.ipynb Cell 61\u001b[0m line \u001b[0;36m7\n\u001b[0;32m      <a href='vscode-notebook-cell:/c%3A/Users/Manish%20Kumar/Data%20Science/numpy.ipynb#Y114sZmlsZQ%3D%3D?line=2'>3</a>\u001b[0m newarr \u001b[39m=\u001b[39m arr\u001b[39m.\u001b[39mreshape(\u001b[39m2\u001b[39m,\u001b[39m4\u001b[39m )\n\u001b[0;32m      <a href='vscode-notebook-cell:/c%3A/Users/Manish%20Kumar/Data%20Science/numpy.ipynb#Y114sZmlsZQ%3D%3D?line=4'>5</a>\u001b[0m \u001b[39mprint\u001b[39m(newarr)\n\u001b[1;32m----> <a href='vscode-notebook-cell:/c%3A/Users/Manish%20Kumar/Data%20Science/numpy.ipynb#Y114sZmlsZQ%3D%3D?line=6'>7</a>\u001b[0m newarr\u001b[39m=\u001b[39m arr\u001b[39m.\u001b[39mreshape(\u001b[39m3\u001b[39m,\u001b[39m3\u001b[39m)\n\u001b[0;32m      <a href='vscode-notebook-cell:/c%3A/Users/Manish%20Kumar/Data%20Science/numpy.ipynb#Y114sZmlsZQ%3D%3D?line=8'>9</a>\u001b[0m \u001b[39mprint\u001b[39m(newarr)\n",
      "\u001b[1;31mValueError\u001b[0m: cannot reshape array of size 8 into shape (3,3)"
     ]
    }
   ],
   "source": [
    "arr = np.array([1, 2, 3, 4, 5, 6, 7, 8])\n",
    "\n",
    "newarr = arr.reshape(2,4 )\n",
    "\n",
    "print(newarr)\n",
    "\n",
    "newarr= arr.reshape(3,3)\n",
    "\n",
    "print(newarr)"
   ]
  },
  {
   "cell_type": "markdown",
   "metadata": {},
   "source": [
    "### Returns Copy or View?"
   ]
  },
  {
   "cell_type": "code",
   "execution_count": null,
   "metadata": {},
   "outputs": [],
   "source": [
    "print(newarr.base);\n"
   ]
  },
  {
   "cell_type": "markdown",
   "metadata": {},
   "source": [
    "This means it ia a view "
   ]
  },
  {
   "cell_type": "markdown",
   "metadata": {},
   "source": [
    "### Unknown Dimension\n",
    "You are allowed to have one \"unknown\" dimension.\n",
    "\n",
    "Meaning that you do not have to specify an exact number for one of the dimensions in the reshape method.\n",
    "\n",
    "Pass -1 as the value, and NumPy will calculate this number for you."
   ]
  },
  {
   "cell_type": "code",
   "execution_count": 134,
   "metadata": {},
   "outputs": [
    {
     "name": "stdout",
     "output_type": "stream",
     "text": [
      "[[ 1 23  4  5  6]\n",
      " [ 7  8  5  5  7]]\n",
      "[[[ 1]\n",
      "  [23]]\n",
      "\n",
      " [[ 4]\n",
      "  [ 5]]\n",
      "\n",
      " [[ 6]\n",
      "  [ 7]]\n",
      "\n",
      " [[ 8]\n",
      "  [ 5]]\n",
      "\n",
      " [[ 5]\n",
      "  [ 7]]]\n"
     ]
    }
   ],
   "source": [
    "arr= np.array([1,23,4,5,6,7,8,5,5,7]);\n",
    "\n",
    "newarr=arr.reshape(2,5);\n",
    "\n",
    "print(newarr);\n",
    "\n",
    "newarr= arr.reshape(-1,2,1)\n",
    "print(newarr);"
   ]
  },
  {
   "cell_type": "markdown",
   "metadata": {},
   "source": [
    "## NumPy Array Iterating"
   ]
  },
  {
   "cell_type": "markdown",
   "metadata": {},
   "source": [
    "### Iterating Arrays\n",
    "Iterating means going through elements one by one.\n",
    "\n",
    "As we deal with multi-dimensional arrays in numpy, we can do this using basic for loop of python.\n",
    "\n",
    "If we iterate on a 1-D array it will go through each element one by one."
   ]
  },
  {
   "cell_type": "code",
   "execution_count": 133,
   "metadata": {},
   "outputs": [
    {
     "name": "stdout",
     "output_type": "stream",
     "text": [
      "1\n",
      "2\n",
      "43\n",
      "5\n",
      "6\n",
      "7\n"
     ]
    }
   ],
   "source": [
    "x= np.array([1,2,43,5,6,7]);\n",
    "\n",
    "for a in x :\n",
    "    print(a)"
   ]
  },
  {
   "cell_type": "markdown",
   "metadata": {},
   "source": [
    "For 2-D :"
   ]
  },
  {
   "cell_type": "code",
   "execution_count": 132,
   "metadata": {},
   "outputs": [
    {
     "name": "stdout",
     "output_type": "stream",
     "text": [
      "[ 2  3 45]\n",
      "[ 2  4 56]\n",
      "2\n",
      "3\n",
      "45\n",
      "2\n",
      "4\n",
      "56\n"
     ]
    }
   ],
   "source": [
    "y= np.array([[2,3,45],[2,4,56]]);\n",
    "\n",
    "for a in y :\n",
    "  print(a)\n",
    "\n",
    "for a in y :\n",
    "  for b in a:\n",
    "   print(b)"
   ]
  },
  {
   "cell_type": "markdown",
   "metadata": {},
   "source": [
    "For 3-D array:"
   ]
  },
  {
   "cell_type": "code",
   "execution_count": 131,
   "metadata": {},
   "outputs": [
    {
     "name": "stdout",
     "output_type": "stream",
     "text": [
      "[[1 2 3]\n",
      " [4 5 6]]\n",
      "[[ 7  8  9]\n",
      " [10 11 12]]\n",
      "1\n",
      "2\n",
      "3\n",
      "4\n",
      "5\n",
      "6\n",
      "7\n",
      "8\n",
      "9\n",
      "10\n",
      "11\n",
      "12\n"
     ]
    }
   ],
   "source": [
    "arr = np.array([[[1, 2, 3], [4, 5, 6]], [[7, 8, 9], [10, 11, 12]]])\n",
    "\n",
    "for x in arr:\n",
    "  print(x)\n",
    "\n",
    "for x in arr:\n",
    "  for y in x:\n",
    "     for z in y:\n",
    "       print(z)"
   ]
  },
  {
   "cell_type": "markdown",
   "metadata": {},
   "source": [
    "### Iterating Arrays Using nditer()\n",
    "The function nditer() is a helping function that can be used from very basic to very advanced iterations. It solves some basic issues which we face in iteration, lets go through it with examples."
   ]
  },
  {
   "cell_type": "code",
   "execution_count": 130,
   "metadata": {},
   "outputs": [
    {
     "name": "stdout",
     "output_type": "stream",
     "text": [
      "[[1 2 3]\n",
      " [4 5 6]]\n",
      "[[ 7  8  9]\n",
      " [10 11 12]]\n",
      "1\n",
      "2\n",
      "3\n",
      "4\n",
      "5\n",
      "6\n",
      "7\n",
      "8\n",
      "9\n",
      "10\n",
      "11\n",
      "12\n"
     ]
    }
   ],
   "source": [
    "arr = np.array([[[1, 2, 3], [4, 5, 6]], [[7, 8, 9], [10, 11, 12]]])\n",
    "\n",
    "\n",
    "for x in arr:\n",
    "  print(x) \n",
    "   \n",
    "for a in np.nditer(arr):\n",
    "    print(a);"
   ]
  },
  {
   "cell_type": "markdown",
   "metadata": {},
   "source": [
    "### Iterating Array With Different Data Types\n",
    "We can use op_dtypes argument and pass it the expected datatype to change the datatype of elements while iterating.\n",
    "\n",
    "NumPy does not change the data type of the element in-place (where the element is in array) so it needs some other space to perform this action, that extra space is called buffer, and in order to enable it in nditer() we pass flags=['buffered']."
   ]
  },
  {
   "cell_type": "code",
   "execution_count": 129,
   "metadata": {},
   "outputs": [
    {
     "name": "stdout",
     "output_type": "stream",
     "text": [
      "b'1'\n",
      "b'23'\n",
      "b'4'\n",
      "b'5'\n",
      "b'5'\n",
      "b'6'\n",
      "b'7'\n",
      "b'9'\n",
      "[[ 1 23  4  5]\n",
      " [ 5  6  7  9]]\n"
     ]
    }
   ],
   "source": [
    "arr= np.array([[1,23,4,5],[5,6,7,9]]);\n",
    "\n",
    "for x in np.nditer(arr,flags=['buffered'],op_dtypes='S'):\n",
    "\n",
    "    print(x)\n",
    "\n",
    "print(arr)"
   ]
  },
  {
   "cell_type": "markdown",
   "metadata": {},
   "source": [
    "### Iterating With Different Step Size\n",
    "We can use filtering and followed by iteration."
   ]
  },
  {
   "cell_type": "markdown",
   "metadata": {},
   "source": [
    "2-D Array:"
   ]
  },
  {
   "cell_type": "code",
   "execution_count": 128,
   "metadata": {},
   "outputs": [
    {
     "name": "stdout",
     "output_type": "stream",
     "text": [
      "2\n",
      "4\n",
      "4\n",
      "76\n",
      "1\n",
      "3\n",
      "3\n",
      "5\n"
     ]
    }
   ],
   "source": [
    "arr= np.array([[2,3,4],[4,5,76],[1,2,3],[3,4,5]]);\n",
    "\n",
    "for a in np.nditer(arr[:,::2]):\n",
    "    print(a);"
   ]
  },
  {
   "cell_type": "markdown",
   "metadata": {},
   "source": [
    "3-D Array:"
   ]
  },
  {
   "cell_type": "code",
   "execution_count": 127,
   "metadata": {},
   "outputs": [
    {
     "name": "stdout",
     "output_type": "stream",
     "text": [
      "2\n",
      "4\n",
      "4\n",
      "76\n",
      "1\n",
      "3\n",
      "3\n",
      "5\n"
     ]
    }
   ],
   "source": [
    "arr= np.array([[[2,3,4],[4,5,76]],[[1,2,3],[3,4,5]]]);\n",
    "\n",
    "for a in np.nditer(arr[:,:,::2]):\n",
    "    print(a);\n",
    "    "
   ]
  },
  {
   "cell_type": "markdown",
   "metadata": {},
   "source": [
    "#### Explanation\n",
    "###### arr= np.array([[[2,3,4],[4,5,76]],[[1,2,3],[3,4,5]]])\n",
    "\n",
    "This line creates a 3-dimensional NumPy array. The outermost list contains two lists, each of which contains two more lists of three elements.\n",
    "\n",
    "###### for a in np.nditer(arr[:,:,::2]): \n",
    "\n",
    "This line iterates over the array using np.nditer, which is a function that allows efficient multi-dimensional iteration over arrays. The arr[:,:,::2] part is slicing the array. The : means take everything along this dimension. The ::2 means take every other element along the last dimension.\n",
    "\n",
    "###### print(a)\n",
    "\n",
    "This line prints each element that the iterator goes over"
   ]
  },
  {
   "cell_type": "markdown",
   "metadata": {},
   "source": [
    "### Enumerated Iteration Using ndenumerate()\n",
    "Enumeration means mentioning sequence number of somethings one by one.\n",
    "\n",
    "Sometimes we require corresponding index of the element while iterating, the ndenumerate() method can be used for those usecases."
   ]
  },
  {
   "cell_type": "markdown",
   "metadata": {},
   "source": [
    "for 1-D array:"
   ]
  },
  {
   "cell_type": "code",
   "execution_count": 126,
   "metadata": {},
   "outputs": [
    {
     "name": "stdout",
     "output_type": "stream",
     "text": [
      "(0,) 1\n",
      "(1,) 2\n",
      "(2,) 3\n",
      "(3,) 4\n",
      "(4,) 5\n",
      "(5,) 6\n",
      "(6,) 76\n",
      "(7,) 8\n",
      "(8,) 9\n"
     ]
    }
   ],
   "source": [
    "arr= np.array([1,2,3,4,5,6,76,8,9]);\n",
    "\n",
    "for idx,a in np.ndenumerate(arr):\n",
    "    print(idx,a)"
   ]
  },
  {
   "cell_type": "markdown",
   "metadata": {},
   "source": [
    "For 2-D array:"
   ]
  },
  {
   "cell_type": "code",
   "execution_count": 125,
   "metadata": {},
   "outputs": [
    {
     "name": "stdout",
     "output_type": "stream",
     "text": [
      "(0, 0) 1\n",
      "(0, 1) 3\n",
      "(0, 2) 4\n",
      "(0, 3) 5\n",
      "(1, 0) 5\n",
      "(1, 1) 6\n",
      "(1, 2) 8\n",
      "(1, 3) 0\n"
     ]
    }
   ],
   "source": [
    "arr= np.array([[1,3,4,5],[5,6,8,0]]);\n",
    "\n",
    "for idx,a in np.ndenumerate(arr):\n",
    "    print(idx,a)"
   ]
  },
  {
   "cell_type": "markdown",
   "metadata": {},
   "source": [
    "for 3-D array:"
   ]
  },
  {
   "cell_type": "code",
   "execution_count": 124,
   "metadata": {},
   "outputs": [
    {
     "name": "stdout",
     "output_type": "stream",
     "text": [
      "(0, 0, 0) 1\n",
      "(0, 0, 1) 2\n",
      "(0, 0, 2) 3\n",
      "(0, 0, 3) 4\n",
      "(0, 0, 4) 5\n",
      "(0, 1, 0) 2\n",
      "(0, 1, 1) 4\n",
      "(0, 1, 2) 5\n",
      "(0, 1, 3) 6\n",
      "(0, 1, 4) 7\n",
      "(1, 0, 0) 9\n",
      "(1, 0, 1) 4\n",
      "(1, 0, 2) 5\n",
      "(1, 0, 3) 7\n",
      "(1, 0, 4) 3\n",
      "(1, 1, 0) 27\n",
      "(1, 1, 1) 39\n",
      "(1, 1, 2) 92\n",
      "(1, 1, 3) 90\n",
      "(1, 1, 4) 2\n"
     ]
    }
   ],
   "source": [
    "arr=np.array([[[1,2,3,4,5],[2,4,5,6,7]],[[9,4,5,7,3],[27,39,92,90,2]]]);\n",
    "\n",
    "for i,a in np.ndenumerate(arr):\n",
    "    print(i,a)"
   ]
  },
  {
   "cell_type": "code",
   "execution_count": null,
   "metadata": {},
   "outputs": [],
   "source": []
  }
 ],
 "metadata": {
  "kernelspec": {
   "display_name": "Python 3 (ipykernel)",
   "language": "python",
   "name": "python3"
  },
  "language_info": {
   "codemirror_mode": {
    "name": "ipython",
    "version": 3
   },
   "file_extension": ".py",
   "mimetype": "text/x-python",
   "name": "python",
   "nbconvert_exporter": "python",
   "pygments_lexer": "ipython3",
   "version": "3.12.4"
  }
 },
 "nbformat": 4,
 "nbformat_minor": 5
}
