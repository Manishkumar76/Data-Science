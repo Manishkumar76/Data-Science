{
 "cells": [
  {
   "cell_type": "markdown",
   "id": "20fc8081-30b1-4155-9116-febc73a0466a",
   "metadata": {},
   "source": [
    "# Day 1 - learning Data sicence"
   ]
  },
  {
   "cell_type": "code",
   "execution_count": 2,
   "id": "581bb0bf-c8ee-40be-80e1-da6363b177fa",
   "metadata": {},
   "outputs": [
    {
     "name": "stdout",
     "output_type": "stream",
     "text": [
      "hello yaaro\n"
     ]
    }
   ],
   "source": [
    "print(\"hello yaaro\")"
   ]
  },
  {
   "cell_type": "markdown",
   "id": "64db0aa6-29ad-48b2-8862-fc5c65b2b6f6",
   "metadata": {},
   "source": [
    "## Variables \n",
    "Variable is a container that contain the any type of values and it is a name assign to the memory location."
   ]
  },
  {
   "cell_type": "code",
   "execution_count": 7,
   "id": "c3213522-4095-4a2f-aef1-93ed88706735",
   "metadata": {},
   "outputs": [
    {
     "name": "stdout",
     "output_type": "stream",
     "text": [
      "10\n"
     ]
    }
   ],
   "source": [
    "x=10;\n",
    "print(x)"
   ]
  },
  {
   "cell_type": "code",
   "execution_count": 9,
   "id": "253c4545-9b51-48aa-a2df-953e1285d2eb",
   "metadata": {},
   "outputs": [
    {
     "name": "stdout",
     "output_type": "stream",
     "text": [
      "Rohan Kumar Sharma\n",
      "Rohan\n",
      "Kumar\n",
      "Sharma\n"
     ]
    }
   ],
   "source": [
    "x,y,z=\"Rohan\",\"Kumar\",\"Sharma\";\n",
    "print(x,y,z)\n",
    "print(x)\n",
    "print(y)\n",
    "print(z)"
   ]
  },
  {
   "cell_type": "code",
   "execution_count": 11,
   "id": "24987bd7-0fb1-4a92-848a-0d0e5db38fc4",
   "metadata": {},
   "outputs": [
    {
     "name": "stdout",
     "output_type": "stream",
     "text": [
      "Kumar Rohan\n"
     ]
    }
   ],
   "source": [
    "x,y=y,x;\n",
    "print(x,y)"
   ]
  },
  {
   "cell_type": "code",
   "execution_count": 13,
   "id": "09bfe5ca-cdd8-42a3-9e53-a882e489bf08",
   "metadata": {},
   "outputs": [
    {
     "name": "stdout",
     "output_type": "stream",
     "text": [
      "Manish Kumar\n",
      "Manish Kumar\n",
      "Manish Kumar\n"
     ]
    }
   ],
   "source": [
    "x=y=z=\"Manish Kumar\"\n",
    "print(x)\n",
    "print(y)\n",
    "print(z)"
   ]
  },
  {
   "cell_type": "code",
   "execution_count": 23,
   "id": "dcfefc84-872a-46f5-9839-ce80ffeba14b",
   "metadata": {},
   "outputs": [
    {
     "name": "stdout",
     "output_type": "stream",
     "text": [
      "4\n"
     ]
    }
   ],
   "source": [
    "a=2; \n",
    "b=2;\n",
    "print(b+a)"
   ]
  },
  {
   "cell_type": "markdown",
   "id": "518ff2c4-9e3e-4ec8-89ce-66b44dcc352f",
   "metadata": {},
   "source": [
    "## Operators"
   ]
  },
  {
   "cell_type": "markdown",
   "id": "8b7646fe-207d-4822-9cbb-2200af8112a1",
   "metadata": {},
   "source": [
    "The Operator are symobles that perform some specific operations on variables and operands to manipulate them."
   ]
  },
  {
   "cell_type": "markdown",
   "id": "bf50584c-ff12-47f1-87af-82a6f906ed98",
   "metadata": {},
   "source": [
    "### Arithmetic Operators"
   ]
  },
  {
   "cell_type": "code",
   "execution_count": 39,
   "id": "2ad08a78-cfcf-491a-aca4-9b15b954c734",
   "metadata": {},
   "outputs": [
    {
     "name": "stdout",
     "output_type": "stream",
     "text": [
      "44\n",
      "-24\n",
      "340\n",
      "0.29411764705882354\n",
      "10\n",
      "10000000000000000000000000000000000\n",
      "0\n"
     ]
    }
   ],
   "source": [
    "x=10\n",
    "y=34;\n",
    "print(x+y) # Addition\n",
    "print(x-y) # Subtraction\n",
    "print(x*y) # Multiplication \n",
    "print(x/y) # Division\n",
    "print(x%y) #Modulus\n",
    "print(x**y) # Exponentiation\n",
    "print(x//y) #Floor division"
   ]
  },
  {
   "cell_type": "markdown",
   "id": "0f8ce1be-b51a-4e11-acd1-6d42e485bfda",
   "metadata": {},
   "source": [
    "### Assignment Operators"
   ]
  },
  {
   "cell_type": "code",
   "execution_count": 68,
   "id": "7f804596-db63-40e5-8d3b-f419096c3f67",
   "metadata": {},
   "outputs": [
    {
     "name": "stdout",
     "output_type": "stream",
     "text": [
      "22\n",
      "25\n",
      "75\n",
      "25.0\n",
      "1.0\n",
      "1000\n",
      "1004\n",
      "33\n"
     ]
    }
   ],
   "source": [
    "x=25;\n",
    " \n",
    "x-=3;\n",
    "print(x)\n",
    "\n",
    "x+=3;\n",
    "print(x)\n",
    "\n",
    "x*=3;\n",
    "print(x)\n",
    "\n",
    "x/=3;\n",
    "print(x)\n",
    "\n",
    "x%=3;\n",
    "print(x)\n",
    "\n",
    "y=10\n",
    "y**=3;\n",
    "print(y)\n",
    "\n",
    "y|=4;\n",
    "print(y);\n",
    "\n",
    "x=34;\n",
    "\n",
    "x^=3;\n",
    "print(x)\n",
    "\n",
    "\n",
    "\n"
   ]
  },
  {
   "cell_type": "markdown",
   "id": "07265a9e-fc17-43eb-8319-3b5962df0ad2",
   "metadata": {},
   "source": [
    "### Comparison Operators"
   ]
  },
  {
   "cell_type": "code",
   "execution_count": null,
   "id": "aa4d6849-9aa0-4b0f-8157-d145108a26bf",
   "metadata": {},
   "outputs": [],
   "source": []
  }
 ],
 "metadata": {
  "kernelspec": {
   "display_name": "Python 3 (ipykernel)",
   "language": "python",
   "name": "python3"
  },
  "language_info": {
   "codemirror_mode": {
    "name": "ipython",
    "version": 3
   },
   "file_extension": ".py",
   "mimetype": "text/x-python",
   "name": "python",
   "nbconvert_exporter": "python",
   "pygments_lexer": "ipython3",
   "version": "3.12.4"
  }
 },
 "nbformat": 4,
 "nbformat_minor": 5
}
