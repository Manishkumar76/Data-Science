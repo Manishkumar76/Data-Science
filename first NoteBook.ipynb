{
 "cells": [
  {
   "cell_type": "markdown",
   "id": "20fc8081-30b1-4155-9116-febc73a0466a",
   "metadata": {},
   "source": [
    "# Day 1 - learning Data sicence"
   ]
  },
  {
   "cell_type": "code",
   "execution_count": 125,
   "id": "581bb0bf-c8ee-40be-80e1-da6363b177fa",
   "metadata": {},
   "outputs": [
    {
     "name": "stdout",
     "output_type": "stream",
     "text": [
      "hello yaaro\n"
     ]
    }
   ],
   "source": [
    "print(\"hello yaaro\")"
   ]
  },
  {
   "cell_type": "markdown",
   "id": "64db0aa6-29ad-48b2-8862-fc5c65b2b6f6",
   "metadata": {},
   "source": [
    "## 1.Variables \n",
    "Variable is a container that contain the any type of values and it is a name assign to the memory location."
   ]
  },
  {
   "cell_type": "code",
   "execution_count": 7,
   "id": "c3213522-4095-4a2f-aef1-93ed88706735",
   "metadata": {},
   "outputs": [
    {
     "name": "stdout",
     "output_type": "stream",
     "text": [
      "10\n"
     ]
    }
   ],
   "source": [
    "x=10;\n",
    "print(x)"
   ]
  },
  {
   "cell_type": "code",
   "execution_count": 9,
   "id": "253c4545-9b51-48aa-a2df-953e1285d2eb",
   "metadata": {},
   "outputs": [
    {
     "name": "stdout",
     "output_type": "stream",
     "text": [
      "Rohan Kumar Sharma\n",
      "Rohan\n",
      "Kumar\n",
      "Sharma\n"
     ]
    }
   ],
   "source": [
    "x,y,z=\"Rohan\",\"Kumar\",\"Sharma\";\n",
    "print(x,y,z)\n",
    "print(x)\n",
    "print(y)\n",
    "print(z)"
   ]
  },
  {
   "cell_type": "code",
   "execution_count": 11,
   "id": "24987bd7-0fb1-4a92-848a-0d0e5db38fc4",
   "metadata": {},
   "outputs": [
    {
     "name": "stdout",
     "output_type": "stream",
     "text": [
      "Kumar Rohan\n"
     ]
    }
   ],
   "source": [
    "x,y=y,x;\n",
    "print(x,y)"
   ]
  },
  {
   "cell_type": "code",
   "execution_count": 13,
   "id": "09bfe5ca-cdd8-42a3-9e53-a882e489bf08",
   "metadata": {},
   "outputs": [
    {
     "name": "stdout",
     "output_type": "stream",
     "text": [
      "Manish Kumar\n",
      "Manish Kumar\n",
      "Manish Kumar\n"
     ]
    }
   ],
   "source": [
    "x=y=z=\"Manish Kumar\"\n",
    "print(x)\n",
    "print(y)\n",
    "print(z)"
   ]
  },
  {
   "cell_type": "code",
   "execution_count": 23,
   "id": "dcfefc84-872a-46f5-9839-ce80ffeba14b",
   "metadata": {},
   "outputs": [
    {
     "name": "stdout",
     "output_type": "stream",
     "text": [
      "4\n"
     ]
    }
   ],
   "source": [
    "a=2; \n",
    "b=2;\n",
    "print(b+a)"
   ]
  },
  {
   "cell_type": "markdown",
   "id": "518ff2c4-9e3e-4ec8-89ce-66b44dcc352f",
   "metadata": {},
   "source": [
    "## 2.Operators"
   ]
  },
  {
   "cell_type": "markdown",
   "id": "8b7646fe-207d-4822-9cbb-2200af8112a1",
   "metadata": {},
   "source": [
    "The Operator are symobles that perform some specific operations on variables and operands to manipulate them."
   ]
  },
  {
   "cell_type": "markdown",
   "id": "bf50584c-ff12-47f1-87af-82a6f906ed98",
   "metadata": {},
   "source": [
    "### 2.1. Arithmetic Operators"
   ]
  },
  {
   "cell_type": "code",
   "execution_count": 39,
   "id": "2ad08a78-cfcf-491a-aca4-9b15b954c734",
   "metadata": {},
   "outputs": [
    {
     "name": "stdout",
     "output_type": "stream",
     "text": [
      "44\n",
      "-24\n",
      "340\n",
      "0.29411764705882354\n",
      "10\n",
      "10000000000000000000000000000000000\n",
      "0\n"
     ]
    }
   ],
   "source": [
    "x=10\n",
    "y=34;\n",
    "print(x+y) # Addition\n",
    "print(x-y) # Subtraction\n",
    "print(x*y) # Multiplication \n",
    "print(x/y) # Division\n",
    "print(x%y) #Modulus\n",
    "print(x**y) # Exponentiation\n",
    "print(x//y) #Floor division"
   ]
  },
  {
   "cell_type": "markdown",
   "id": "0f8ce1be-b51a-4e11-acd1-6d42e485bfda",
   "metadata": {},
   "source": [
    "### 2.2. Assignment Operators"
   ]
  },
  {
   "cell_type": "code",
   "execution_count": 68,
   "id": "7f804596-db63-40e5-8d3b-f419096c3f67",
   "metadata": {},
   "outputs": [
    {
     "name": "stdout",
     "output_type": "stream",
     "text": [
      "22\n",
      "25\n",
      "75\n",
      "25.0\n",
      "1.0\n",
      "1000\n",
      "1004\n",
      "33\n"
     ]
    }
   ],
   "source": [
    "x=25;\n",
    " \n",
    "x-=3;\n",
    "print(x)\n",
    "\n",
    "x+=3;\n",
    "print(x)\n",
    "\n",
    "x*=3;\n",
    "print(x)\n",
    "\n",
    "x/=3;\n",
    "print(x)\n",
    "\n",
    "x%=3;\n",
    "print(x)\n",
    "\n",
    "y=10\n",
    "y**=3;\n",
    "print(y)\n",
    "\n",
    "y|=4;\n",
    "print(y);\n",
    "\n",
    "x=34;\n",
    "\n",
    "x^=3;\n",
    "print(x)\n",
    "\n",
    "\n",
    "\n"
   ]
  },
  {
   "cell_type": "markdown",
   "id": "07265a9e-fc17-43eb-8319-3b5962df0ad2",
   "metadata": {},
   "source": [
    "### 2.3. Comparison Operators"
   ]
  },
  {
   "cell_type": "code",
   "execution_count": 71,
   "id": "aa4d6849-9aa0-4b0f-8157-d145108a26bf",
   "metadata": {},
   "outputs": [
    {
     "name": "stdout",
     "output_type": "stream",
     "text": [
      "False\n",
      "True\n",
      "False\n",
      "True\n",
      "True\n",
      "False\n"
     ]
    }
   ],
   "source": [
    "x=5\n",
    "y=6;\n",
    "\n",
    "print(x==y) # Equal\n",
    "print(x!=y) # Not Equal\n",
    "print(x>y)  # Greater\n",
    "print(x<y)  # less than\n",
    "print(x<=y) # Less than Equal to\n",
    "print(x>=y) # Greater than Equal to"
   ]
  },
  {
   "cell_type": "markdown",
   "id": "893cde0a-0046-4bd2-a4a0-f2c930ca9a27",
   "metadata": {},
   "source": [
    "### 2.4. Logical Operators"
   ]
  },
  {
   "cell_type": "code",
   "execution_count": 76,
   "id": "a027c631-9a13-479b-bec4-1059125ddc8d",
   "metadata": {},
   "outputs": [
    {
     "name": "stdout",
     "output_type": "stream",
     "text": [
      "False\n",
      "True\n",
      "False True\n"
     ]
    }
   ],
   "source": [
    "x=3\n",
    "y=9;\n",
    "\n",
    "print(x<2 and y>3) # Logical And\n",
    "print(x<2 or y>3)  # Logical Or\n",
    "print(x<2 ,not(y>10)) # Logical Not"
   ]
  },
  {
   "cell_type": "markdown",
   "id": "9f3ab7a7-1258-4912-8090-2c2ab5d1ed93",
   "metadata": {},
   "source": [
    "### 2.5. Identity Operators"
   ]
  },
  {
   "cell_type": "code",
   "execution_count": 85,
   "id": "f83ddf7e-6dce-4d27-a62a-ee7af3e4dbd5",
   "metadata": {},
   "outputs": [
    {
     "name": "stdout",
     "output_type": "stream",
     "text": [
      "False\n",
      "True\n"
     ]
    }
   ],
   "source": [
    "x=3;\n",
    "y=9;\n",
    "\n",
    "print(x is y) # is  it returns ture if both variables are the same object \n",
    "\n",
    "print(x is not y) # Is Not (it return ture if both variables are not same object)\n"
   ]
  },
  {
   "cell_type": "markdown",
   "id": "5a2c9a84-8322-43ad-8a03-7c20c2b21f6b",
   "metadata": {},
   "source": [
    "### 2.6. Membership Opeators"
   ]
  },
  {
   "cell_type": "code",
   "execution_count": 104,
   "id": "11c90b49-51ca-44c2-880e-019b587bb61b",
   "metadata": {},
   "outputs": [
    {
     "name": "stdout",
     "output_type": "stream",
     "text": [
      "True\n",
      "True\n"
     ]
    }
   ],
   "source": [
    "\n",
    "y=[7];\n",
    "\n",
    "print(7 in y) # return true if a sequence with the specified value is preseted in the object \n",
    "print(3 not in y) #return true if a sequence with the specified value is not preseted in the object"
   ]
  },
  {
   "cell_type": "markdown",
   "id": "88cb5cd5-3094-434c-8147-dbd14b2b38a5",
   "metadata": {},
   "source": [
    "### 2.7. Bitwise Operators"
   ]
  },
  {
   "cell_type": "code",
   "execution_count": 115,
   "id": "7abcb2cf-24a1-4eed-a0fd-7c95f436c29c",
   "metadata": {},
   "outputs": [
    {
     "name": "stdout",
     "output_type": "stream",
     "text": [
      "0\n",
      "13\n",
      "13\n",
      "-5\n",
      "16\n",
      "2\n"
     ]
    }
   ],
   "source": [
    "x=4;\n",
    "y=9;\n",
    "\n",
    "print(x & y) # AND\n",
    "print(x|y)   # OR\n",
    "print(x^y)   # XOR\n",
    "print(~x)    # NOT\n",
    "print(x<<2)  # LEFT SHIFT\n",
    "print(y>>2)  # RIGHT SHIFT\n"
   ]
  },
  {
   "cell_type": "markdown",
   "id": "dac92a2b-32da-4917-baf2-3f9cba7d1af3",
   "metadata": {},
   "source": [
    "## 3. Functions\n",
    "Function is a block of code or instruction which perform some specific tasks and it increase reusability of the code and also reduce the length of the code.\n",
    "A function has two part \n",
    "1.Function Definition\n",
    "2.Function Call\n"
   ]
  },
  {
   "cell_type": "markdown",
   "id": "7960b91f-e47b-4db1-8702-1d12894aa76d",
   "metadata": {},
   "source": [
    "### 3.1 Bult-in Functions\n",
    "\n",
    "These are the functions the predefined in python interpeter and use mostly in every program of "
   ]
  },
  {
   "cell_type": "code",
   "execution_count": 161,
   "id": "fe5efb16-04c0-4b53-a19d-7e8d9877750b",
   "metadata": {},
   "outputs": [
    {
     "name": "stdout",
     "output_type": "stream",
     "text": [
      "2\n",
      "True\n",
      "True\n",
      "0b11\n",
      "True\n",
      "bytearray(b'\\x00\\x00\\x00\\x00\\x00\\x00')\n",
      "b'\\x00\\x00\\x00\\x00\\x00\\x00'\n",
      "False\n"
     ]
    }
   ],
   "source": [
    "#1. abs()\n",
    "x=-2;\n",
    "print(abs(x));\n",
    "\n",
    "#2. all()\n",
    "x=[\"ture\",\"ture\"]\n",
    "print(all(x));\n",
    "\n",
    "#3. any()\n",
    "y=['false','false','false'];\n",
    "print(any(y))\n",
    "\n",
    "#4. bin()\n",
    "y=3;\n",
    "print(bin(y))\n",
    "\n",
    "#5. bool()\n",
    "# y=0;\n",
    "print(bool(y))\n",
    "\n",
    "#6. bytearray()\n",
    "x=6;\n",
    "print(bytearray(x))\n",
    "\n",
    "#7. bytes()\n",
    "print(bytes(x))\n",
    "\n",
    "#8. callable()\n",
    "print(callable(x))\n",
    "\n"
   ]
  },
  {
   "cell_type": "code",
   "execution_count": null,
   "id": "a7640d7d-1f0e-4bb2-bc78-2e6b185f6be2",
   "metadata": {},
   "outputs": [],
   "source": []
  }
 ],
 "metadata": {
  "kernelspec": {
   "display_name": "Python 3 (ipykernel)",
   "language": "python",
   "name": "python3"
  },
  "language_info": {
   "codemirror_mode": {
    "name": "ipython",
    "version": 3
   },
   "file_extension": ".py",
   "mimetype": "text/x-python",
   "name": "python",
   "nbconvert_exporter": "python",
   "pygments_lexer": "ipython3",
   "version": "3.12.4"
  }
 },
 "nbformat": 4,
 "nbformat_minor": 5
}
